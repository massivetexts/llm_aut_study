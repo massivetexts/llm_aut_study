{
 "cells": [
  {
   "cell_type": "markdown",
   "metadata": {},
   "source": [
    "This is a brief example of converting a dataset export (as provided by [Process_AUT_GT.ipynb](https://github.com/massivetexts/llm_aut_study/blob/main/notebooks/Process_AUT_GT.ipynb) to a single CSV file."
   ]
  },
  {
   "cell_type": "code",
   "execution_count": 2,
   "metadata": {},
   "outputs": [],
   "source": [
    "from pathlib import Path\n",
    "import pandas as pd\n",
    "import tarfile\n",
    "import json"
   ]
  },
  {
   "cell_type": "code",
   "execution_count": 5,
   "metadata": {},
   "outputs": [],
   "source": [
    "# point to your dataset\n",
    "data_dir = '../../../Data/aut_ground_truth/gt_main2.tar.gz'"
   ]
  },
  {
   "cell_type": "code",
   "execution_count": 6,
   "metadata": {},
   "outputs": [
    {
     "data": {
      "text/html": [
       "<div>\n",
       "<style scoped>\n",
       "    .dataframe tbody tr th:only-of-type {\n",
       "        vertical-align: middle;\n",
       "    }\n",
       "\n",
       "    .dataframe tbody tr th {\n",
       "        vertical-align: top;\n",
       "    }\n",
       "\n",
       "    .dataframe thead th {\n",
       "        text-align: right;\n",
       "    }\n",
       "</style>\n",
       "<table border=\"1\" class=\"dataframe\">\n",
       "  <thead>\n",
       "    <tr style=\"text-align: right;\">\n",
       "      <th></th>\n",
       "      <th>src</th>\n",
       "      <th>question</th>\n",
       "      <th>prompt</th>\n",
       "      <th>response</th>\n",
       "      <th>id</th>\n",
       "      <th>target</th>\n",
       "      <th>participant</th>\n",
       "      <th>response_num</th>\n",
       "      <th>count</th>\n",
       "      <th>split</th>\n",
       "    </tr>\n",
       "  </thead>\n",
       "  <tbody>\n",
       "    <tr>\n",
       "      <th>8187</th>\n",
       "      <td>motesf</td>\n",
       "      <td>What is a surprising use for a SPOON?</td>\n",
       "      <td>spoon</td>\n",
       "      <td>bend the spoon and use it and it will look lik...</td>\n",
       "      <td>motesf_spoon-50ae</td>\n",
       "      <td>2.7</td>\n",
       "      <td>motesfa8f1</td>\n",
       "      <td>2</td>\n",
       "      <td>NaN</td>\n",
       "      <td>train</td>\n",
       "    </tr>\n",
       "    <tr>\n",
       "      <th>18076</th>\n",
       "      <td>betal18</td>\n",
       "      <td>What is a surprising use for a BOX?</td>\n",
       "      <td>box</td>\n",
       "      <td>Design weaponry</td>\n",
       "      <td>betal18_box-fa0f</td>\n",
       "      <td>1.3</td>\n",
       "      <td>betal182072</td>\n",
       "      <td>None</td>\n",
       "      <td>NaN</td>\n",
       "      <td>train</td>\n",
       "    </tr>\n",
       "    <tr>\n",
       "      <th>11187</th>\n",
       "      <td>bs12</td>\n",
       "      <td>What is a surprising use for a BRICK?</td>\n",
       "      <td>brick</td>\n",
       "      <td>You can use pieces of a to make tattoo</td>\n",
       "      <td>bs12_brick-110d</td>\n",
       "      <td>3.4</td>\n",
       "      <td>bs125</td>\n",
       "      <td>None</td>\n",
       "      <td>NaN</td>\n",
       "      <td>train</td>\n",
       "    </tr>\n",
       "    <tr>\n",
       "      <th>11969</th>\n",
       "      <td>bs12</td>\n",
       "      <td>What is a surprising use for a BRICK?</td>\n",
       "      <td>brick</td>\n",
       "      <td>paper weight</td>\n",
       "      <td>bs12_brick-bb1e</td>\n",
       "      <td>1.3</td>\n",
       "      <td>bs12106</td>\n",
       "      <td>None</td>\n",
       "      <td>93.0</td>\n",
       "      <td>train</td>\n",
       "    </tr>\n",
       "    <tr>\n",
       "      <th>2374</th>\n",
       "      <td>snbmo09</td>\n",
       "      <td>What is a surprising use for a BRICK?</td>\n",
       "      <td>brick</td>\n",
       "      <td>use as decorative stone around a house</td>\n",
       "      <td>snbmo09_brick-8f44</td>\n",
       "      <td>1.0</td>\n",
       "      <td>snbmo09190</td>\n",
       "      <td>9</td>\n",
       "      <td>NaN</td>\n",
       "      <td>test</td>\n",
       "    </tr>\n",
       "  </tbody>\n",
       "</table>\n",
       "</div>"
      ],
      "text/plain": [
       "           src                               question prompt  \\\n",
       "8187    motesf  What is a surprising use for a SPOON?  spoon   \n",
       "18076  betal18    What is a surprising use for a BOX?    box   \n",
       "11187     bs12  What is a surprising use for a BRICK?  brick   \n",
       "11969     bs12  What is a surprising use for a BRICK?  brick   \n",
       "2374   snbmo09  What is a surprising use for a BRICK?  brick   \n",
       "\n",
       "                                                response                  id  \\\n",
       "8187   bend the spoon and use it and it will look lik...   motesf_spoon-50ae   \n",
       "18076                                    Design weaponry    betal18_box-fa0f   \n",
       "11187             You can use pieces of a to make tattoo     bs12_brick-110d   \n",
       "11969                                       paper weight     bs12_brick-bb1e   \n",
       "2374              use as decorative stone around a house  snbmo09_brick-8f44   \n",
       "\n",
       "       target  participant response_num  count  split  \n",
       "8187      2.7   motesfa8f1            2    NaN  train  \n",
       "18076     1.3  betal182072         None    NaN  train  \n",
       "11187     3.4        bs125         None    NaN  train  \n",
       "11969     1.3      bs12106         None   93.0  train  \n",
       "2374      1.0   snbmo09190            9    NaN   test  "
      ]
     },
     "execution_count": 6,
     "metadata": {},
     "output_type": "execute_result"
    }
   ],
   "source": [
    "all_items = []\n",
    "with tarfile.open(data_dir) as tf:\n",
    "    for member in tf.getmembers():\n",
    "        if not member.isfile():\n",
    "            continue\n",
    "        f = tf.extractfile(member)\n",
    "        item = json.load(f)\n",
    "        item['split'] = Path(member.name).parent.name\n",
    "        all_items.append(item)\n",
    "data = pd.DataFrame(all_items)\n",
    "data.sample(5)"
   ]
  },
  {
   "cell_type": "code",
   "execution_count": 8,
   "metadata": {},
   "outputs": [],
   "source": [
    "# now you can export data to your preferred output. e.g.\n",
    "data.to_csv('gt_main2.csv')"
   ]
  }
 ],
 "metadata": {
  "kernelspec": {
   "display_name": "Python 3.9.12 ('base')",
   "language": "python",
   "name": "python3"
  },
  "language_info": {
   "codemirror_mode": {
    "name": "ipython",
    "version": 3
   },
   "file_extension": ".py",
   "mimetype": "text/x-python",
   "name": "python",
   "nbconvert_exporter": "python",
   "pygments_lexer": "ipython3",
   "version": "3.9.12"
  },
  "orig_nbformat": 4,
  "vscode": {
   "interpreter": {
    "hash": "e93f6973baf80d840d9d6715f091ca11c0bba5902c2f522aa0ee562f8ebeaf67"
   }
  }
 },
 "nbformat": 4,
 "nbformat_minor": 2
}
