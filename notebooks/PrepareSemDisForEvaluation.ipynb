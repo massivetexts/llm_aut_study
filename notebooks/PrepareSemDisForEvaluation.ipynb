{
  "nbformat": 4,
  "nbformat_minor": 0,
  "metadata": {
    "colab": {
      "provenance": [],
      "collapsed_sections": [],
      "mount_file_id": "11JjmJnlNzMc6hZaLcF6d7ZiQNXUI7TGc",
      "authorship_tag": "ABX9TyMY591H4VPepSIDZB2wnu6i",
      "include_colab_link": true
    },
    "kernelspec": {
      "name": "python3",
      "display_name": "Python 3"
    },
    "language_info": {
      "name": "python"
    }
  },
  "cells": [
    {
      "cell_type": "markdown",
      "metadata": {
        "id": "view-in-github",
        "colab_type": "text"
      },
      "source": [
        "<a href=\"https://colab.research.google.com/github/massivetexts/llm_aut_study/blob/main/notebooks/PrepareSemDisForEvaluation.ipynb\" target=\"_parent\"><img src=\"https://colab.research.google.com/assets/colab-badge.svg\" alt=\"Open In Colab\"/></a>"
      ]
    },
    {
      "cell_type": "markdown",
      "source": [
        "Prepare code for scoring in http://semdis.wlu.psu.edu/, then process the output."
      ],
      "metadata": {
        "id": "DPhq1MDpD9Jh"
      }
    },
    {
      "cell_type": "code",
      "source": [
        "from pathlib import Path\n",
        "import pandas as pd"
      ],
      "metadata": {
        "id": "neDrydbCDFAS"
      },
      "execution_count": null,
      "outputs": []
    },
    {
      "cell_type": "code",
      "execution_count": null,
      "metadata": {
        "colab": {
          "base_uri": "https://localhost:8080/"
        },
        "cellView": "form",
        "id": "RoviBhdWCz6J",
        "outputId": "af4cd164-e339-4567-9481-ea6cd77b4bbe"
      },
      "outputs": [
        {
          "output_type": "stream",
          "name": "stdout",
          "text": [
            "GT options ['gt_main', 'gt_bypart3', 'gt_byprompt4', 'gt_byparticipant', 'gt_byprompt', 'all', 'gt_main2', 'gt_main_std']\n",
            "Data decompressed to data/gt_main2\n"
          ]
        }
      ],
      "source": [
        "base_dir = Path('drive/MyDrive/Grants/MOTES/') #@param { type: 'raw' }\n",
        "gt_dir = base_dir / 'Data' / 'aut_ground_truth' #@param { type: 'raw' }\n",
        "evaldir = base_dir / 'Data' / 'evaluation' #@param { type: 'raw' }\n",
        "print(\"GT options\", [x.name.split('.')[0] for x in gt_dir.glob('*tar.gz')])\n",
        "split = 'gt_main2' #@param ['gt_byparticipant', 'gt_main2', 'gt_byprompt'] {allow-input: true}\n",
        "\n",
        "# copy locally and unzip\n",
        "!cp \"{gt_dir}/{split}.tar.gz\" .\n",
        "!rm -rf data\n",
        "!tar -xf {split}.tar.gz\n",
        "data_dir = Path(f\"data/{split}\")\n",
        "print(\"Data decompressed to\", data_dir)"
      ]
    },
    {
      "cell_type": "code",
      "source": [
        "testdata_df = pd.DataFrame([pd.read_json(x, orient='index')[0] for x in (data_dir / 'test').glob('*json')])\n",
        "testdata_df.prompt = testdata_df.prompt.str.replace('paperclip', 'paper clip') # improve prompt\n",
        "testdata_df.shape"
      ],
      "metadata": {
        "colab": {
          "base_uri": "https://localhost:8080/"
        },
        "id": "3bOZ-z-DDoer",
        "outputId": "6a49b23d-c58b-455c-c96a-09bac373b14e"
      },
      "execution_count": null,
      "outputs": [
        {
          "output_type": "execute_result",
          "data": {
            "text/plain": [
              "(3030, 9)"
            ]
          },
          "metadata": {},
          "execution_count": 92
        }
      ]
    },
    {
      "cell_type": "code",
      "source": [
        "x = testdata_df[['id', 'prompt', 'response']]\n",
        "x.columns = ['id', 'item', 'response']\n",
        "parts = 3\n",
        "for i in range(parts):\n",
        "    x.iloc[i::parts].to_csv(f'{split}-{i}.csv') # save multiple files"
      ],
      "metadata": {
        "id": "FZyJCRazEupS"
      },
      "execution_count": null,
      "outputs": []
    },
    {
      "cell_type": "markdown",
      "source": [
        "## Process data for analysis format"
      ],
      "metadata": {
        "id": "dLUnxt8eS-bs"
      }
    },
    {
      "cell_type": "code",
      "source": [
        "!mkdir -p {evaldir}/{split}\n",
        "scored = pd.concat([pd.read_csv(p) for p in Path('.').glob('SemD*csv')])\n",
        "scoring_cols = [col for col in scored.columns if col.startswith('SemDis') and col != 'SemDis_factor']\n",
        "\n",
        "for metric in scoring_cols:\n",
        "    # don't join on response because semdis adjusts the text sometimes\n",
        "    out = scored[['id', 'item', metric]].copy()\n",
        "    out.columns = ['id', 'prompt', 'predicted']\n",
        "    out['split'] = split\n",
        "    out['model'] = metric\n",
        "    #scored.iloc[:,5:]\n",
        "    out = testdata_df.merge(out, how='left', on=['id', 'prompt'])\n",
        "    out.prompt = out.prompt.str.replace('paper clip', 'paperclip')\n",
        "    print('NAs', out.predicted.isna().sum())\n",
        "    out[['id', 'model', 'participant', 'prompt', 'target', 'predicted', 'src',\n",
        "        'split', 'question', 'response', 'response_num']].to_csv(evaldir / split / f'{metric}.csv')\n",
        "    out.predicted.isna().sum()"
      ],
      "metadata": {
        "id": "tu_Y0QZ7TS1s",
        "colab": {
          "base_uri": "https://localhost:8080/"
        },
        "outputId": "7e8372f4-c0d9-4a21-cd67-b2e53eab0559"
      },
      "execution_count": null,
      "outputs": [
        {
          "output_type": "stream",
          "name": "stdout",
          "text": [
            "NAs 20\n",
            "NAs 18\n",
            "NAs 18\n",
            "NAs 29\n",
            "NAs 19\n",
            "NAs 14\n"
          ]
        }
      ]
    },
    {
      "cell_type": "code",
      "source": [
        "print(evaldir / split / f'{metric}.csv')\n",
        "out.groupby(['prompt'])[['target', 'predicted']].corr()['target'].loc[(slice(None), 'predicted')]"
      ],
      "metadata": {
        "colab": {
          "base_uri": "https://localhost:8080/"
        },
        "id": "bMhc9gph2TMF",
        "outputId": "a3252725-0577-4c9c-fe1d-024ab37e92c8"
      },
      "execution_count": null,
      "outputs": [
        {
          "output_type": "stream",
          "name": "stdout",
          "text": [
            "drive/MyDrive/Grants/MOTES/Data/evaluation/gt_main2/SemDis_MEAN.csv\n"
          ]
        },
        {
          "output_type": "execute_result",
          "data": {
            "text/plain": [
              "prompt\n",
              "backpack      0.088868\n",
              "ball          0.087153\n",
              "book          0.221470\n",
              "bottle        0.102755\n",
              "box           0.105734\n",
              "brick         0.109117\n",
              "fork          0.190020\n",
              "hat           0.300573\n",
              "knife         0.013340\n",
              "lightbulb     0.275774\n",
              "pants         0.339713\n",
              "paperclip     0.134830\n",
              "pencil        0.329377\n",
              "rope          0.187856\n",
              "shoe          0.237699\n",
              "shovel        0.097057\n",
              "sock          0.040200\n",
              "spoon         0.233097\n",
              "table         0.335739\n",
              "tire          0.356340\n",
              "toothbrush    0.164354\n",
              "Name: target, dtype: float64"
            ]
          },
          "metadata": {},
          "execution_count": 95
        }
      ]
    }
  ]
}